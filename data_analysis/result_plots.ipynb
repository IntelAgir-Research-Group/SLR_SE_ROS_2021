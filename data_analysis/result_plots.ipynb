{
 "cells": [
  {
   "cell_type": "code",
   "execution_count": 1,
   "metadata": {},
   "outputs": [],
   "source": [
    "import matplotlib.pyplot as plt\n",
    "import numpy as np\n",
    "import scipy.interpolate as interpolate"
   ]
  },
  {
   "cell_type": "code",
   "execution_count": 13,
   "metadata": {},
   "outputs": [
    {
     "data": {
      "image/png": "[encoded data removed]",
      "text/plain": [
       "<Figure size 432x288 with 2 Axes>"
      ]
     },
     "metadata": {
      "needs_background": "light"
     },
     "output_type": "display_data"
    }
   ],
   "source": [
    "total_scores = [0, 1, 2, 3, 4]\n",
    "no_of_studies = [12, 16, 14, 10, 5]\n",
    "\n",
    "labels = ['Subjects', 'Context', 'Scale', 'Research\\nmethod']\n",
    "score_zero = [22, 25, 30, 46]\n",
    "score_one = [35, 32, 27, 11]\n",
    "\n",
    "x = np.arange(len(labels))\n",
    "width = 0.30  \n",
    "\n",
    "fig, (ax1, ax2) = plt.subplots(2)\n",
    "\n",
    "rects = ax1.bar(total_scores, no_of_studies, 1, color='lightgray', edgecolor=\"black\") \n",
    "ax1.set_ylabel('Number of studies')\n",
    "ax1.set_xlabel('Cumulative industrial score')\n",
    "\n",
    "\n",
    "rects1 = ax2.bar(x - width/2, score_zero, width, label='0', color='gray', edgecolor=\"black\")\n",
    "rects2 = ax2.bar(x + width/2, score_one, width, label='1', color='lightgray', edgecolor=\"black\")\n",
    "\n",
    "ax2.set_ylabel('Number of studies')\n",
    "ax2.set_xticks(x)\n",
    "ax2.set_xticklabels(labels)\n",
    "ax2.legend()\n",
    "\n",
    "\n",
    "def autolabel(rects, ax):\n",
    "    for rect in rects:\n",
    "        height = rect.get_height()\n",
    "        ax.annotate('{}'.format(height),\n",
    "                    xy=(rect.get_x() + rect.get_width() / 2, height),\n",
    "                    xytext=(0, 3),  # 3 points vertical offset\n",
    "                    textcoords=\"offset points\",\n",
    "                    ha='center', va='bottom')\n",
    "\n",
    "autolabel(rects, ax1)        \n",
    "autolabel(rects1, ax2)\n",
    "autolabel(rects2, ax2)\n",
    "\n",
    "ax1.set_ylim(0, 20)\n",
    "ax2.set_ylim(0, 70)\n",
    "\n",
    "fig.tight_layout()\n",
    "\n",
    "#plt.show()\n",
    "plt.savefig('figures/industrial_score.pdf', bbox_inches='tight')"
   ]
  },
  {
   "cell_type": "code",
   "execution_count": null,
   "metadata": {},
   "outputs": [],
   "source": []
  },
  {
   "cell_type": "code",
   "execution_count": null,
   "metadata": {},
   "outputs": [],
   "source": []
  },
  {
   "cell_type": "code",
   "execution_count": null,
   "metadata": {},
   "outputs": [],
   "source": []
  }
 ],
 "metadata": {
  "kernelspec": {
   "display_name": "Python 3 (ipykernel)",
   "language": "python",
   "name": "python3"
  },
  "language_info": {
   "codemirror_mode": {
    "name": "ipython",
    "version": 3
   },
   "file_extension": ".py",
   "mimetype": "text/x-python",
   "name": "python",
   "nbconvert_exporter": "python",
   "pygments_lexer": "ipython3",
   "version": "3.10.2"
  }
 },
 "nbformat": 4,
 "nbformat_minor": 4
}
