{
 "cells": [
  {
   "cell_type": "code",
   "execution_count": 1,
   "metadata": {},
   "outputs": [],
   "source": [
    "## Import data visualization packages\n",
    "import matplotlib.pyplot as plt\n",
    "import numpy as np\n",
    "%matplotlib inline"
   ]
  },
  {
   "cell_type": "code",
   "execution_count": 13,
   "metadata": {},
   "outputs": [
    {
     "data": {
      "image/png": "[encoded data removed]",
      "text/plain": [
       "<Figure size 432x288 with 1 Axes>"
      ]
     },
     "metadata": {
      "needs_background": "light"
     },
     "output_type": "display_data"
    },
    {
     "data": {
      "text/plain": [
       "<Figure size 432x288 with 0 Axes>"
      ]
     },
     "metadata": {},
     "output_type": "display_data"
    }
   ],
   "source": [
    "x = [2012,2013,2014,2015,2016,2017,2018,2019,2020,2021]\n",
    "labels=x\n",
    "journals = [0,0,0,0,0,0,0,5,1,2]\n",
    "conferences = [1,1,1,3,2,8,6,9,13,5]\n",
    "width=0.75\n",
    "fig, ax = plt.subplots()\n",
    "ax.set_xticks(x)\n",
    "\n",
    "# First bar with conferences\n",
    "ax.bar(labels, conferences, width, label='Conference',color=\"gray\")\n",
    "for label, conf in zip(labels, conferences):\n",
    "    height = conf\n",
    "    value = 1\n",
    "    if value > 0:\n",
    "        ax.text(\n",
    "            label, height-1, height, ha=\"center\", va=\"bottom\"\n",
    "        )\n",
    "\n",
    "# Second bar with journals\n",
    "ax.bar(labels, journals, width, bottom=conferences,label='Journal',color=\"darkgray\")\n",
    "for label, j, c in zip(labels, journals, conferences):\n",
    "    height = j\n",
    "    if height > 0:\n",
    "        ax.text(\n",
    "            label, c+height-1, height, ha=\"center\", va=\"bottom\"\n",
    "        )\n",
    "\n",
    "ax.legend()\n",
    "\n",
    "plt.show()\n",
    "plt.draw()\n",
    "plt.savefig('figures/demographics.pdf', bbox_inches='tight')"
   ]
  },
  {
   "cell_type": "code",
   "execution_count": null,
   "metadata": {},
   "outputs": [],
   "source": []
  },
  {
   "cell_type": "code",
   "execution_count": null,
   "metadata": {},
   "outputs": [],
   "source": []
  }
 ],
 "metadata": {
  "kernelspec": {
   "display_name": "Python 3",
   "language": "python",
   "name": "python3"
  },
  "language_info": {
   "codemirror_mode": {
    "name": "ipython",
    "version": 3
   },
   "file_extension": ".py",
   "mimetype": "text/x-python",
   "name": "python",
   "nbconvert_exporter": "python",
   "pygments_lexer": "ipython3",
   "version": "3.8.10"
  }
 },
 "nbformat": 4,
 "nbformat_minor": 4
}
